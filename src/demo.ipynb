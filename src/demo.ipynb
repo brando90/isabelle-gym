{
 "cells": [
  {
   "cell_type": "code",
   "execution_count": 1,
   "metadata": {},
   "outputs": [],
   "source": [
    "from gym import Gym"
   ]
  },
  {
   "cell_type": "code",
   "execution_count": 2,
   "metadata": {
    "tags": []
   },
   "outputs": [
    {
     "output_type": "stream",
     "name": "stdout",
     "text": "ok\n"
    }
   ],
   "source": [
    "g = Gym()"
   ]
  },
  {
   "cell_type": "code",
   "execution_count": 3,
   "metadata": {
    "tags": []
   },
   "outputs": [
    {
     "output_type": "stream",
     "name": "stdout",
     "text": "['1. A & B --> B & A']\n"
    }
   ],
   "source": [
    "# use process_line to add new line to our proof session, with option to print console output and goals\n",
    "g.process_line(\"lemma problem1: \\\"(A \\<and> B) \\<longrightarrow> (B \\<and> A)\\\"\", print_console = False, print_goals = True)"
   ]
  },
  {
   "cell_type": "code",
   "execution_count": 4,
   "metadata": {},
   "outputs": [
    {
     "output_type": "execute_result",
     "data": {
      "text/plain": "['Loading theory \"Draft.thy\"',\n 'proof (prove)',\n 'goal (1 subgoal):',\n '1. A & B --> B & A',\n '*** Failed to finish proof:',\n '*** goal (1 subgoal):',\n '***  1. A & B --> B & A',\n '*** At command \"done\" (line 6 of \"~/Documents/IsabelleGym/repo/isabelle-gym/src/tmp/thy.thy\")',\n '### theory \"Draft.thy\"',\n '### 0.020s elapsed time, 0.040s cpu time, 0.000s GC time',\n '*** Failed to finish proof:',\n '*** goal (1 subgoal):',\n '***  1. A & B --> B & A',\n '*** At command \"done\" (line 6 of \"~/Documents/IsabelleGym/repo/isabelle-gym/src/tmp/thy.thy\")',\n 'Exception- TOPLEVEL_ERROR raised']"
     },
     "metadata": {},
     "execution_count": 4
    }
   ],
   "source": [
    "# get the console outputs from this variable\n",
    "g.console.lines"
   ]
  },
  {
   "cell_type": "code",
   "execution_count": 5,
   "metadata": {},
   "outputs": [
    {
     "output_type": "execute_result",
     "data": {
      "text/plain": "['1. A & B --> B & A']"
     },
     "metadata": {},
     "execution_count": 5
    }
   ],
   "source": [
    "# you can also get the goals from this variable\n",
    "g.goals"
   ]
  },
  {
   "cell_type": "code",
   "execution_count": 13,
   "metadata": {
    "tags": []
   },
   "outputs": [
    {
     "output_type": "stream",
     "name": "stdout",
     "text": "['theory thy\\n', 'imports Main\\n', 'begin\\n', 'lemma problem1: \"(A \\\\<and> B) \\\\<longrightarrow> (B \\\\<and> A)\"\\n', 'apply (rule impI)\\n']\ntheory thy\n\nimports Main\n\nbegin\n\nlemma problem1: \"(A \\<and> B) \\<longrightarrow> (B \\<and> A)\"\n\napply (rule impI)\n\n"
    }
   ],
   "source": [
    "# for now we se document to manage .thy files, use this function to get the lines inside the .thy file\n",
    "print(g.document.get_lines())\n",
    "\n",
    "# or print the lines to stdout, using:\n",
    "g.document.print_lines()"
   ]
  },
  {
   "cell_type": "code",
   "execution_count": 7,
   "metadata": {
    "tags": []
   },
   "outputs": [
    {
     "output_type": "stream",
     "name": "stdout",
     "text": "['Theory loader: removing \"Draft.thy\"', 'Loading theory \"Draft.thy\"', '*** Failed to finish proof:', '*** goal (1 subgoal):', '***  1. A & B ==> B & A', '*** At command \"done\" (line 7 of \"~/Documents/IsabelleGym/repo/isabelle-gym/src/tmp/thy.thy\")', 'proof (prove)', 'goal (1 subgoal):', '1. A & B ==> B & A', '### theory \"Draft.thy\"', '### 0.019s elapsed time, 0.039s cpu time, 0.000s GC time', '*** Failed to finish proof:', '*** goal (1 subgoal):', '***  1. A & B ==> B & A', '*** At command \"done\" (line 7 of \"~/Documents/IsabelleGym/repo/isabelle-gym/src/tmp/thy.thy\")', 'Exception- TOPLEVEL_ERROR raised']\n"
    }
   ],
   "source": [
    "g.process_line(\"apply (rule impI)\", True)"
   ]
  },
  {
   "cell_type": "code",
   "execution_count": 6,
   "metadata": {},
   "outputs": [
    {
     "output_type": "execute_result",
     "data": {
      "text/plain": "['1. A & B ==> B & A']"
     },
     "metadata": {},
     "execution_count": 6
    }
   ],
   "source": [
    "g.goals"
   ]
  },
  {
   "cell_type": "code",
   "execution_count": 7,
   "metadata": {
    "tags": []
   },
   "outputs": [
    {
     "output_type": "stream",
     "name": "stdout",
     "text": "['Theory loader: removing \"Draft.thy\"', 'Loading theory \"Draft.thy\"', 'proof (prove)', 'goal (2 subgoals):', '1. A & B ==> B', '2. A & B ==> A', '*** Failed to finish proof:', '*** goal (2 subgoals):', '***  1. A & B ==> B', '***  2. A & B ==> A', '*** At command \"done\" (line 8 of \"~/Documents/IsabelleGym/repo/isabelle-gym/src/tmp/thy.thy\")', '### theory \"Draft.thy\"', '### 0.019s elapsed time, 0.039s cpu time, 0.000s GC time', '*** Failed to finish proof:', '*** goal (2 subgoals):', '***  1. A & B ==> B', '***  2. A & B ==> A', '*** At command \"done\" (line 8 of \"~/Documents/IsabelleGym/repo/isabelle-gym/src/tmp/thy.thy\")', 'Exception- TOPLEVEL_ERROR raised']\n"
    },
    {
     "output_type": "execute_result",
     "data": {
      "text/plain": "['1. A & B ==> B', '2. A & B ==> A']"
     },
     "metadata": {},
     "execution_count": 7
    }
   ],
   "source": [
    "g.process_line(\"apply (rule conjI)\", True)\n",
    "g.goals"
   ]
  },
  {
   "cell_type": "code",
   "execution_count": 9,
   "metadata": {
    "tags": []
   },
   "outputs": [
    {
     "output_type": "stream",
     "name": "stdout",
     "text": "['Theory loader: removing \"Draft.thy\"', 'Loading theory \"Draft.thy\"', 'proof (prove)', 'goal (2 subgoals):', '1. [| A; B |] ==> B', '2. A & B ==> A', '*** Failed to finish proof:', '*** goal (2 subgoals):', '***  1. [| A; B |] ==> B', '***  2. A & B ==> A', '*** At command \"done\" (line 9 of \"~/Documents/IsabelleGym/repo/isabelle-gym/src/tmp/thy.thy\")', '### theory \"Draft.thy\"', '### 0.020s elapsed time, 0.041s cpu time, 0.000s GC time', '*** Failed to finish proof:', '*** goal (2 subgoals):', '***  1. [| A; B |] ==> B', '***  2. A & B ==> A', '*** At command \"done\" (line 9 of \"~/Documents/IsabelleGym/repo/isabelle-gym/src/tmp/thy.thy\")', 'Exception- TOPLEVEL_ERROR raised']\n"
    },
    {
     "output_type": "execute_result",
     "data": {
      "text/plain": "['1. [| A; B |] ==> B', '2. A & B ==> A']"
     },
     "metadata": {},
     "execution_count": 9
    }
   ],
   "source": [
    "g.process_line(\"apply (erule conjE)\", True)\n",
    "g.goals"
   ]
  },
  {
   "cell_type": "code",
   "execution_count": 10,
   "metadata": {
    "tags": []
   },
   "outputs": [
    {
     "output_type": "stream",
     "name": "stdout",
     "text": "['Theory loader: removing \"Draft.thy\"', 'Loading theory \"Draft.thy\"', 'proof (prove)', 'goal (1 subgoal):', '1. A & B ==> A', '*** Failed to finish proof:', '*** goal (1 subgoal):', '***  1. A & B ==> A', '*** At command \"done\" (line 10 of \"~/Documents/IsabelleGym/repo/isabelle-gym/src/tmp/thy.thy\")', '### theory \"Draft.thy\"', '### 0.019s elapsed time, 0.038s cpu time, 0.000s GC time', '*** Failed to finish proof:', '*** goal (1 subgoal):', '***  1. A & B ==> A', '*** At command \"done\" (line 10 of \"~/Documents/IsabelleGym/repo/isabelle-gym/src/tmp/thy.thy\")', 'Exception- TOPLEVEL_ERROR raised']\n"
    }
   ],
   "source": [
    "g.process_line(\"apply (assumption)\", True)"
   ]
  },
  {
   "cell_type": "code",
   "execution_count": 11,
   "metadata": {},
   "outputs": [
    {
     "output_type": "execute_result",
     "data": {
      "text/plain": "['1. A & B ==> A']"
     },
     "metadata": {},
     "execution_count": 11
    }
   ],
   "source": [
    "g.goals"
   ]
  },
  {
   "cell_type": "code",
   "execution_count": 12,
   "metadata": {
    "tags": []
   },
   "outputs": [
    {
     "output_type": "stream",
     "name": "stdout",
     "text": "['Theory loader: removing \"Draft.thy\"', 'Loading theory \"Draft.thy\"', '*** Failed to finish proof:', '*** goal (1 subgoal):', '***  1. [| A; B |] ==> A', '*** At command \"done\" (line 11 of \"~/Documents/IsabelleGym/repo/isabelle-gym/src/tmp/thy.thy\")', 'proof (prove)', 'goal (1 subgoal):', '1. [| A; B |] ==> A', '### theory \"Draft.thy\"', '### 0.019s elapsed time, 0.039s cpu time, 0.000s GC time', '*** Failed to finish proof:', '*** goal (1 subgoal):', '***  1. [| A; B |] ==> A', '*** At command \"done\" (line 11 of \"~/Documents/IsabelleGym/repo/isabelle-gym/src/tmp/thy.thy\")', 'Exception- TOPLEVEL_ERROR raised']\n"
    },
    {
     "output_type": "execute_result",
     "data": {
      "text/plain": "['1. [| A; B |] ==> A']"
     },
     "metadata": {},
     "execution_count": 12
    }
   ],
   "source": [
    "g.process_line(\"apply (erule conjE)\", True)\n",
    "g.goals"
   ]
  },
  {
   "cell_type": "code",
   "execution_count": 13,
   "metadata": {
    "tags": []
   },
   "outputs": [
    {
     "output_type": "stream",
     "name": "stdout",
     "text": "['Theory loader: removing \"Draft.thy\"', 'Loading theory \"Draft.thy\"', 'proof (prove)', 'goal:', 'No subgoals!', '### theory \"Draft.thy\"', '### 0.019s elapsed time, 0.038s cpu time, 0.000s GC time', 'val it = (): unit']\n"
    },
    {
     "output_type": "execute_result",
     "data": {
      "text/plain": "['No subgoals!']"
     },
     "metadata": {},
     "execution_count": 13
    }
   ],
   "source": [
    "g.process_line(\"apply assumption\", True)\n",
    "g.goals"
   ]
  },
  {
   "cell_type": "code",
   "execution_count": null,
   "metadata": {},
   "outputs": [],
   "source": [
    "# and we are done for this problem. QED"
   ]
  }
 ],
 "metadata": {
  "kernelspec": {
   "display_name": "Python 3",
   "language": "python",
   "name": "python3"
  },
  "language_info": {
   "codemirror_mode": {
    "name": "ipython",
    "version": 3
   },
   "file_extension": ".py",
   "mimetype": "text/x-python",
   "name": "python",
   "nbconvert_exporter": "python",
   "pygments_lexer": "ipython3",
   "version": "3.7.4"
  }
 },
 "nbformat": 4,
 "nbformat_minor": 2
}